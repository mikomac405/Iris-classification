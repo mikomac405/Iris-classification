{
  "cells":[
    {
      "cell_type":"markdown",
      "source":[
        "# 1. <span style='color:green'>Zaimportowanie potrzebnych bibliotek oraz danych z pliku .csv"
      ],
      "metadata":{
        
      }
    },
    {
      "cell_type":"code",
      "source":[
        "import pandas as pd\n",
        "import numpy as np\n",
        "import random as rd\n",
        "\n",
        "iris = pd.read_csv('iris.csv')\n",
        "iris.head()"
      ],
      "execution_count":0,
      "outputs":[
        {
          "data":{
            "text\/html":[
              "<div>\n",
              "<style scoped>\n",
              "    .dataframe tbody tr th:only-of-type {\n",
              "        vertical-align: middle;\n",
              "    }\n",
              "\n",
              "    .dataframe tbody tr th {\n",
              "        vertical-align: top;\n",
              "    }\n",
              "\n",
              "    .dataframe thead th {\n",
              "        text-align: right;\n",
              "    }\n",
              "<\/style>\n",
              "<table border=\"1\" class=\"dataframe\">\n",
              "  <thead>\n",
              "    <tr style=\"text-align: right;\">\n",
              "      <th><\/th>\n",
              "      <th>sepal.length<\/th>\n",
              "      <th>sepal.width<\/th>\n",
              "      <th>petal.length<\/th>\n",
              "      <th>petal.width<\/th>\n",
              "      <th>variety<\/th>\n",
              "    <\/tr>\n",
              "  <\/thead>\n",
              "  <tbody>\n",
              "    <tr>\n",
              "      <th>0<\/th>\n",
              "      <td>5.1<\/td>\n",
              "      <td>3.5<\/td>\n",
              "      <td>1.4<\/td>\n",
              "      <td>0.2<\/td>\n",
              "      <td>Setosa<\/td>\n",
              "    <\/tr>\n",
              "    <tr>\n",
              "      <th>1<\/th>\n",
              "      <td>4.9<\/td>\n",
              "      <td>3.0<\/td>\n",
              "      <td>1.4<\/td>\n",
              "      <td>0.2<\/td>\n",
              "      <td>Setosa<\/td>\n",
              "    <\/tr>\n",
              "    <tr>\n",
              "      <th>2<\/th>\n",
              "      <td>4.7<\/td>\n",
              "      <td>3.2<\/td>\n",
              "      <td>1.3<\/td>\n",
              "      <td>0.2<\/td>\n",
              "      <td>Setosa<\/td>\n",
              "    <\/tr>\n",
              "    <tr>\n",
              "      <th>3<\/th>\n",
              "      <td>4.6<\/td>\n",
              "      <td>3.1<\/td>\n",
              "      <td>1.5<\/td>\n",
              "      <td>0.2<\/td>\n",
              "      <td>Setosa<\/td>\n",
              "    <\/tr>\n",
              "    <tr>\n",
              "      <th>4<\/th>\n",
              "      <td>5.0<\/td>\n",
              "      <td>3.6<\/td>\n",
              "      <td>1.4<\/td>\n",
              "      <td>0.2<\/td>\n",
              "      <td>Setosa<\/td>\n",
              "    <\/tr>\n",
              "  <\/tbody>\n",
              "<\/table>\n",
              "<\/div>"
            ]
          },
          "metadata":{
            
          },
          "output_type":"display_data"
        }
      ],
      "metadata":{
        
      }
    },
    {
      "cell_type":"markdown",
      "source":[
        "# 2. <span style='color:green'>Implementacja klasy służącej do przygotwowywania danych do klasyfikacji"
      ],
      "metadata":{
        
      }
    },
    {
      "cell_type":"code",
      "source":[
        "class DataProcessing:\n",
        "    @staticmethod\n",
        "    def shuffle(x):\n",
        "        for i in range(len(x)-1,0,-1):\n",
        "            j = rd.randint(0,i)\n",
        "            x.iloc[i], x.iloc[j] = x.iloc[j], x.iloc[i]\n",
        "        return x\n",
        "\n",
        "    @staticmethod\n",
        "    def split_set(x):\n",
        "        k = int(len(x)*0.7)\n",
        "        train = x[:k]\n",
        "        val = x[k:]\n",
        "        return train, val\n",
        "    \n",
        "    @staticmethod\n",
        "    def normalize(x):\n",
        "        val = x.select_dtypes(exclude=\"object\")\n",
        "        columns = val.columns.tolist()\n",
        "        for c in columns:\n",
        "            current_set = x.loc[:, c]\n",
        "            maximum, minimum = max(current_set), min(current_set)\n",
        "            for r in range(0,len(x),1):\n",
        "                value = (x.at[r, c] - minimum) \/ (maximum - minimum)\n",
        "                x.at[r, c] = value"
      ],
      "execution_count":0,
      "outputs":[
        
      ],
      "metadata":{
        
      }
    },
    {
      "cell_type":"markdown",
      "source":[
        "# 3. <span style='color:green'>Implementacja klasy służacej do klasyfikacji naiwnym klasyfikatorem Bayesa"
      ],
      "metadata":{
        
      }
    },
    {
      "cell_type":"markdown",
      "source":[
        "*Zrezygnowałem z pisania własnych metod wyliczających średnią oraz odchylenie standardowe na rzecz tych wbudowanych w Pandas*<br><br>\n",
        "Średnia artmetyczna: $\\bar{x} = \\frac{x_1+x_2+\\cdots+x_n}{n}$ <br><br>\n",
        "Odchylenie standardowe: $\\sigma = \\sqrt{\\frac{(x_1-\\bar{X})^2+(x_2-\\bar{X})^2+\\cdots+(x_n-\\bar{X})^2 }{n}}$"
      ],
      "metadata":{
        
      }
    },
    {
      "cell_type":"code",
      "source":[
        "class NaiveBayes:\n",
        "    # metoda do obliczenia prawdopodobieństwa (funkcja gaussa)\n",
        "    @staticmethod\n",
        "    def gauss(x,mean,std):\n",
        "        exponent = np.exp(-(x-mean)**2\/(2*std**2))\n",
        "        return 1\/(np.sqrt(2*np.pi*std**2))*exponent\n",
        "\n",
        "    # metoda klasyfikacji\n",
        "    @staticmethod\n",
        "    def classify(trainSet, sample):\n",
        "\n",
        "        # separacja klas z bazy X metodą query wbudowaną w Pandas (można również użyć metod where oraz isin)\n",
        "        setosa = iris.query('variety == \"Setosa\"')\n",
        "        virginica = iris.query('variety == \"Virginica\"')\n",
        "        versicolor = iris.query('variety == \"Versicolor\"')\n",
        "        classes = [setosa, virginica, versicolor]\n",
        "\n",
        "        \n",
        "        probabilities = []\n",
        "        for c in classes:\n",
        "            # obliczenie śreniej i odchylenia dla każdego atrybutu dla każdej klasy\n",
        "            means = []\n",
        "            stds = []\n",
        "            for atr in c:\n",
        "                if c[atr].dtype != 'O':\n",
        "                    means.append(c[atr].mean())\n",
        "                    stds.append(c[atr].std())\n",
        "            \n",
        "            prob = 1\n",
        "\n",
        "            # obliczenie składowych prawdopodobieństwa (wykorzystanie gaussa)\n",
        "            for i in range(4):\n",
        "                prob *= NaiveBayes.gauss(sample[i],means[i],stds[i])\n",
        "            probabilities.append(prob)\n",
        "        \n",
        "        for i in range(3):\n",
        "            if probabilities[i] == max(probabilities):\n",
        "                return classes[i]['variety'].iloc[0]"
      ],
      "execution_count":0,
      "outputs":[
        
      ],
      "metadata":{
        
      }
    },
    {
      "cell_type":"markdown",
      "source":[
        "# 4. <span style='color:green'>Normalizacja, przetasowanie oraz podzielenie danych na część treningową oraz walidacyjną"
      ],
      "metadata":{
        
      }
    },
    {
      "cell_type":"code",
      "source":[
        "DataProcessing.normalize(iris)\n",
        "DataProcessing.shuffle(iris)\n",
        "trainSet, valuesSet = DataProcessing.split_set(iris)"
      ],
      "execution_count":0,
      "outputs":[
        
      ],
      "metadata":{
        
      }
    },
    {
      "cell_type":"markdown",
      "source":[
        "# 5. <span style='color:green'>Trenowanie modelu oraz testowanie jego precyzji"
      ],
      "metadata":{
        
      }
    },
    {
      "cell_type":"code",
      "source":[
        "acc = 0\n",
        "for i in range(len(valuesSet)):\n",
        "    sample = valuesSet.iloc[i].to_list()\n",
        "    if NaiveBayes.classify(trainSet,sample[:4]) == sample[4]:\n",
        "        acc+=1\n",
        "print('Uzyskana precyzja dla tego modelu: {}%'.format(int(acc\/len(valuesSet)*100)))"
      ],
      "execution_count":0,
      "outputs":[
        {
          "name":"stdout",
          "text":[
            "Uzyskana precyzja dla tego modelu: 100%\n"
          ],
          "output_type":"stream"
        }
      ],
      "metadata":{
        
      }
    },
    {
      "cell_type":"markdown",
      "source":[
        "### W żadnym z testowanych modeli precyzja nie spadła ponieżej <span style='color:green'>93<\/span>%"
      ],
      "metadata":{
        
      }
    }
  ],
  "metadata":{
    
  },
  "nbformat":4,
  "nbformat_minor":0
}